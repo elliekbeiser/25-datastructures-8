{
 "cells": [
  {
   "cell_type": "code",
   "execution_count": 5,
   "metadata": {},
   "outputs": [],
   "source": [
    "inventory = {}\n",
    "inventory[\"Caramel\"] = 6\n",
    "inventory[\"Chocolate\"] = 8\n",
    "inventory[\"Toffee Nut\"] = 15"
   ]
  },
  {
   "cell_type": "code",
   "execution_count": 6,
   "metadata": {},
   "outputs": [
    {
     "name": "stdout",
     "output_type": "stream",
     "text": [
      "6\n"
     ]
    }
   ],
   "source": [
    "print(inventory[\"Caramel\"])"
   ]
  },
  {
   "cell_type": "code",
   "execution_count": 7,
   "metadata": {},
   "outputs": [],
   "source": [
    "syrups = [(\"Caramel\", \"In stock\"), (\"Toffe Nut\", \"Out of stock\"), (\"Chocolate\", \"In stock\")]"
   ]
  },
  {
   "cell_type": "code",
   "execution_count": 13,
   "metadata": {},
   "outputs": [
    {
     "name": "stdout",
     "output_type": "stream",
     "text": [
      "Caramel: In stock\n",
      "Toffe Nut: Out of stock\n",
      "Chocolate: In stock\n"
     ]
    }
   ],
   "source": [
    "for syrup, status in syrups:\n",
    "    # if syrup == \"Chocolate\"]:\n",
    "        print(f'{syrup}: {status}')"
   ]
  },
  {
   "cell_type": "code",
   "execution_count": 14,
   "metadata": {},
   "outputs": [],
   "source": [
    "def hash(key, size):\n",
    "    total = 0\n",
    "    for char in key:\n",
    "        print(char, ord(char))\n",
    "        total += ord(char)\n",
    "    print(f'Total: {total}')\n",
    "    return total % size"
   ]
  },
  {
   "cell_type": "code",
   "execution_count": 15,
   "metadata": {},
   "outputs": [
    {
     "name": "stdout",
     "output_type": "stream",
     "text": [
      "C 67\n",
      "a 97\n",
      "r 114\n",
      "a 97\n",
      "m 109\n",
      "e 101\n",
      "l 108\n",
      "Total: 693\n"
     ]
    },
    {
     "data": {
      "text/plain": [
       "3"
      ]
     },
     "execution_count": 15,
     "metadata": {},
     "output_type": "execute_result"
    }
   ],
   "source": [
    "hash(\"Caramel\", 10)"
   ]
  },
  {
   "cell_type": "code",
   "execution_count": 19,
   "metadata": {},
   "outputs": [
    {
     "name": "stdout",
     "output_type": "stream",
     "text": [
      "C 67\n",
      "h 104\n",
      "o 111\n",
      "c 99\n",
      "o 111\n",
      "l 108\n",
      "a 97\n",
      "t 116\n",
      "e 101\n",
      "Total: 914\n"
     ]
    },
    {
     "data": {
      "text/plain": [
       "4"
      ]
     },
     "execution_count": 19,
     "metadata": {},
     "output_type": "execute_result"
    }
   ],
   "source": [
    "hash(\"Chocolate\", 5)"
   ]
  },
  {
   "cell_type": "code",
   "execution_count": 20,
   "metadata": {},
   "outputs": [
    {
     "name": "stdout",
     "output_type": "stream",
     "text": [
      "T 84\n",
      "o 111\n",
      "f 102\n",
      "f 102\n",
      "e 101\n",
      "e 101\n",
      "  32\n",
      "N 78\n",
      "u 117\n",
      "t 116\n",
      "Total: 944\n"
     ]
    },
    {
     "data": {
      "text/plain": [
       "6"
      ]
     },
     "execution_count": 20,
     "metadata": {},
     "output_type": "execute_result"
    }
   ],
   "source": [
    "hash(\"Toffee Nut\", 14)"
   ]
  },
  {
   "cell_type": "code",
   "execution_count": null,
   "metadata": {},
   "outputs": [],
   "source": []
  }
 ],
 "metadata": {
  "kernelspec": {
   "display_name": "Python 3",
   "language": "python",
   "name": "python3"
  },
  "language_info": {
   "codemirror_mode": {
    "name": "ipython",
    "version": 3
   },
   "file_extension": ".py",
   "mimetype": "text/x-python",
   "name": "python",
   "nbconvert_exporter": "python",
   "pygments_lexer": "ipython3",
   "version": "3.13.3"
  }
 },
 "nbformat": 4,
 "nbformat_minor": 2
}
